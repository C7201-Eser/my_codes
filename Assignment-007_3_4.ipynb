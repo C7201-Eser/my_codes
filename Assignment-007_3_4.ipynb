{
 "metadata": {
  "language_info": {
   "codemirror_mode": {
    "name": "ipython",
    "version": 3
   },
   "file_extension": ".py",
   "mimetype": "text/x-python",
   "name": "python",
   "nbconvert_exporter": "python",
   "pygments_lexer": "ipython3",
   "version": "3.8.5-final"
  },
  "orig_nbformat": 2,
  "kernelspec": {
   "name": "python3",
   "display_name": "Python 3",
   "language": "python"
  }
 },
 "nbformat": 4,
 "nbformat_minor": 2,
 "cells": [
  {
   "source": [
    "PRIME NUMBER"
   ],
   "cell_type": "markdown",
   "metadata": {}
  },
  {
   "cell_type": "code",
   "execution_count": 34,
   "metadata": {},
   "outputs": [
    {
     "output_type": "stream",
     "name": "stdout",
     "text": [
      "20 is a composite number and the factors [2, 4, 5, 10]\n"
     ]
    }
   ],
   "source": [
    "number = int(input(\"Enter a number is it is prime number or not :\"))\n",
    "list = []\n",
    "if number > 1:\n",
    "    for div in range(2,number):\n",
    "        if number != div :\n",
    "            if number % div == 0:\n",
    "                list.append(div)\n",
    "    if not list: \n",
    "        print(f\"{number} is a prime number\")\n",
    "    else:\n",
    "        print(f\"{number} is a composite number and the factors {list}\")\n",
    "else:\n",
    "    print(f\"{number} is not a prime number\")"
   ]
  },
  {
   "cell_type": "code",
   "execution_count": 8,
   "metadata": {},
   "outputs": [
    {
     "output_type": "stream",
     "name": "stdout",
     "text": [
      "93084 is Armstrong Number\n"
     ]
    }
   ],
   "source": [
    "number = input(\"Enter a digit number...:\")\n",
    "armstrong = 0\n",
    "if number.isdigit():\n",
    "    for item in number:\n",
    "        armstrong += int(item) ** len(number)\n",
    "    if armstrong == int(number):\n",
    "        print(f\"{number} is Armstrong Number\")    \n",
    "    else:\n",
    "        print(f\"{number} is not Armstrong Number\")\n",
    "else:\n",
    "    print(\" It is an invalid entry. Don't use non-numeric, float, or negative values!\")"
   ]
  },
  {
   "cell_type": "code",
   "execution_count": null,
   "metadata": {},
   "outputs": [],
   "source": []
  },
  {
   "cell_type": "code",
   "execution_count": null,
   "metadata": {},
   "outputs": [],
   "source": []
  }
 ]
}