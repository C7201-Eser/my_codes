{
 "cells": [
  {
   "cell_type": "code",
   "execution_count": null,
   "metadata": {},
   "outputs": [],
   "source": [
    "# Assignment - 007/9 (Letters Count)\n",
    "\n",
    "text = input(\"Enter a tex : \")\n",
    "dict_txt = {}\n",
    "\n",
    "for char in text:\n",
    "    keys = dict_txt.keys()\n",
    "    if char != ' ':\n",
    "        if char in  keys and (char != ''):\n",
    "            dict_txt[char] += 1\n",
    "        else:\n",
    "            dict_txt[char] = 1\n",
    "\n",
    "print (dict_txt)"
   ]
  }
 ],
 "metadata": {
  "kernelspec": {
   "display_name": "Python 3",
   "language": "python",
   "name": "python3"
  },
  "language_info": {
   "codemirror_mode": {
    "name": "ipython",
    "version": 3
   },
   "file_extension": ".py",
   "mimetype": "text/x-python",
   "name": "python",
   "nbconvert_exporter": "python",
   "pygments_lexer": "ipython3",
   "version": "3.8.5"
  }
 },
 "nbformat": 4,
 "nbformat_minor": 4
}
